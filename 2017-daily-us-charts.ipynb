{
 "metadata": {
  "language_info": {
   "codemirror_mode": {
    "name": "ipython",
    "version": 3
   },
   "file_extension": ".py",
   "mimetype": "text/x-python",
   "name": "python",
   "nbconvert_exporter": "python",
   "pygments_lexer": "ipython3",
   "version": "3.8.3-final"
  },
  "orig_nbformat": 2,
  "kernelspec": {
   "name": "Python 3.8.3 64-bit ('base': conda)",
   "display_name": "Python 3.8.3 64-bit ('base': conda)",
   "metadata": {
    "interpreter": {
     "hash": "32d4838acaefaa7115b337e49859756d16aae9672b4c351e965209a797a6582f"
    }
   }
  }
 },
 "nbformat": 4,
 "nbformat_minor": 2,
 "cells": [
  {
   "cell_type": "code",
   "execution_count": 1,
   "metadata": {},
   "outputs": [],
   "source": [
    "#Import Dependencies\n",
    "import requests\n",
    "from bs4 import BeautifulSoup\n",
    "import csv"
   ]
  },
  {
   "cell_type": "code",
   "execution_count": 12,
   "metadata": {},
   "outputs": [],
   "source": [
    "#The purpose of this code is to pull a list of possible dates for spotify charts us in 2017.\n",
    "date_codes=[]\n",
    "date_names=[]\n",
    "Original_url=\"https://spotifycharts.com/regional/us/daily/latest\"\n",
    "list_response=requests.get(Original_url)\n",
    "soup=BeautifulSoup(list_response.text, \"lxml\")\n",
    "#I can add to this later to change from daily or choose another date.\n",
    "dropdowns=soup.find_all('div', class_='responsive-select')\n",
    "dates=dropdowns[2].find_all('li')\n",
    "for date in dates:\n",
    "    date_codes.append(date['data-value'])\n",
    "    date_names.append(date.text)"
   ]
  },
  {
   "cell_type": "code",
   "execution_count": 14,
   "metadata": {},
   "outputs": [],
   "source": [
    "#This is to limit the list of dates to 2017\n",
    "for i in range(len(date_codes)-1,-1,-1):\n",
    "    if date_codes[i][:4]!=\"2017\":\n",
    "        date_codes.pop(i)\n",
    "        date_names.pop(i)"
   ]
  },
  {
   "cell_type": "code",
   "execution_count": null,
   "metadata": {},
   "outputs": [],
   "source": [
    "#Open CSV\n",
    "outPath=\"Resources/2017-daily-us-charts.csv\"\n",
    "with open(outPath, 'w', newline='') as csvfile:\n",
    "    # Initialize csv.writer\n",
    "    csvwriter = csv.writer(csvfile, delimiter=',')\n",
    "    #Creating a header for the data\n",
    "    csvwriter.writerow([\"Date\",\"Position\",\"Track Name\",\"Artist\",\"Streams\",\"ID\"])"
   ]
  },
  {
   "cell_type": "code",
   "execution_count": 20,
   "metadata": {},
   "outputs": [
    {
     "output_type": "stream",
     "name": "stdout",
     "text": [
      "7igeByaBM0MgGsgXtNxDJ7\n"
     ]
    }
   ],
   "source": [
    "tstStr=\"https://open.spotify.com/track/7igeByaBM0MgGsgXtNxDJ7\"\n",
    "print(tstStr[31:])"
   ]
  },
  {
   "cell_type": "code",
   "execution_count": null,
   "metadata": {},
   "outputs": [],
   "source": []
  }
 ]
}