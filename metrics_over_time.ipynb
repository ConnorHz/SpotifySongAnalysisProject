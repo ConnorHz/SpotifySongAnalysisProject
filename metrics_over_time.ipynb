{
 "metadata": {
  "language_info": {
   "codemirror_mode": {
    "name": "ipython",
    "version": 3
   },
   "file_extension": ".py",
   "mimetype": "text/x-python",
   "name": "python",
   "nbconvert_exporter": "python",
   "pygments_lexer": "ipython3",
   "version": "3.6.10-final"
  },
  "orig_nbformat": 2,
  "kernelspec": {
   "name": "Python 3.6.10 64-bit",
   "display_name": "Python 3.6.10 64-bit",
   "metadata": {
    "interpreter": {
     "hash": "7e7c916c673641125590bd307b68bb4342787996dc085909d7e5c72ee4d13010"
    }
   }
  }
 },
 "nbformat": 4,
 "nbformat_minor": 2,
 "cells": [
  {
   "cell_type": "code",
   "execution_count": 1,
   "metadata": {},
   "outputs": [],
   "source": [
    "#dependencies\n",
    "import pandas as pd\n",
    "import matplotlib.pyplot as pyplot\n",
    "\n"
   ]
  },
  {
   "cell_type": "code",
   "execution_count": 2,
   "metadata": {},
   "outputs": [
    {
     "output_type": "execute_result",
     "data": {
      "text/plain": [
       "   acousticness                                   artists  danceability  \\\n",
       "0         0.995                       ['Carl Woitschach']         0.708   \n",
       "1         0.994  ['Robert Schumann', 'Vladimir Horowitz']         0.379   \n",
       "2         0.604                   ['Seweryn Goszczyński']         0.749   \n",
       "3         0.995                      ['Francisco Canaro']         0.781   \n",
       "4         0.990  ['Frédéric Chopin', 'Vladimir Horowitz']         0.210   \n",
       "\n",
       "   duration_ms  energy  explicit                      id  instrumentalness  \\\n",
       "0       158648  0.1950         0  6KbQ3uYMLKb5jDxLF7wYDD             0.563   \n",
       "1       282133  0.0135         0  6KuQTIu1KoTTkLXKrwlLPV             0.901   \n",
       "2       104300  0.2200         0  6L63VW0PibdM1HDSBoqnoM             0.000   \n",
       "3       180760  0.1300         0  6M94FkXd15sOAOQYRnWPN8             0.887   \n",
       "4       687733  0.2040         0  6N6tiFZ9vLTSOIxkj8qKrd             0.908   \n",
       "\n",
       "   key  liveness  loudness  mode  \\\n",
       "0   10    0.1510   -12.428     1   \n",
       "1    8    0.0763   -28.454     1   \n",
       "2    5    0.1190   -19.924     0   \n",
       "3    1    0.1110   -14.734     0   \n",
       "4   11    0.0980   -16.829     1   \n",
       "\n",
       "                                            name  popularity release_date  \\\n",
       "0                    Singende Bataillone 1. Teil           0         1928   \n",
       "1       Fantasiestücke, Op. 111: Più tosto lento           0         1928   \n",
       "2                 Chapter 1.18 - Zamek kaniowski           0         1928   \n",
       "3  Bebamos Juntos - Instrumental (Remasterizado)           0   1928-09-25   \n",
       "4    Polonaise-Fantaisie in A-Flat Major, Op. 61           1         1928   \n",
       "\n",
       "   speechiness    tempo  valence  year  \n",
       "0       0.0506  118.469   0.7790  1928  \n",
       "1       0.0462   83.972   0.0767  1928  \n",
       "2       0.9290  107.177   0.8800  1928  \n",
       "3       0.0926  108.003   0.7200  1928  \n",
       "4       0.0424   62.149   0.0693  1928  "
      ],
      "text/html": "<div>\n<style scoped>\n    .dataframe tbody tr th:only-of-type {\n        vertical-align: middle;\n    }\n\n    .dataframe tbody tr th {\n        vertical-align: top;\n    }\n\n    .dataframe thead th {\n        text-align: right;\n    }\n</style>\n<table border=\"1\" class=\"dataframe\">\n  <thead>\n    <tr style=\"text-align: right;\">\n      <th></th>\n      <th>acousticness</th>\n      <th>artists</th>\n      <th>danceability</th>\n      <th>duration_ms</th>\n      <th>energy</th>\n      <th>explicit</th>\n      <th>id</th>\n      <th>instrumentalness</th>\n      <th>key</th>\n      <th>liveness</th>\n      <th>loudness</th>\n      <th>mode</th>\n      <th>name</th>\n      <th>popularity</th>\n      <th>release_date</th>\n      <th>speechiness</th>\n      <th>tempo</th>\n      <th>valence</th>\n      <th>year</th>\n    </tr>\n  </thead>\n  <tbody>\n    <tr>\n      <th>0</th>\n      <td>0.995</td>\n      <td>['Carl Woitschach']</td>\n      <td>0.708</td>\n      <td>158648</td>\n      <td>0.1950</td>\n      <td>0</td>\n      <td>6KbQ3uYMLKb5jDxLF7wYDD</td>\n      <td>0.563</td>\n      <td>10</td>\n      <td>0.1510</td>\n      <td>-12.428</td>\n      <td>1</td>\n      <td>Singende Bataillone 1. Teil</td>\n      <td>0</td>\n      <td>1928</td>\n      <td>0.0506</td>\n      <td>118.469</td>\n      <td>0.7790</td>\n      <td>1928</td>\n    </tr>\n    <tr>\n      <th>1</th>\n      <td>0.994</td>\n      <td>['Robert Schumann', 'Vladimir Horowitz']</td>\n      <td>0.379</td>\n      <td>282133</td>\n      <td>0.0135</td>\n      <td>0</td>\n      <td>6KuQTIu1KoTTkLXKrwlLPV</td>\n      <td>0.901</td>\n      <td>8</td>\n      <td>0.0763</td>\n      <td>-28.454</td>\n      <td>1</td>\n      <td>Fantasiestücke, Op. 111: Più tosto lento</td>\n      <td>0</td>\n      <td>1928</td>\n      <td>0.0462</td>\n      <td>83.972</td>\n      <td>0.0767</td>\n      <td>1928</td>\n    </tr>\n    <tr>\n      <th>2</th>\n      <td>0.604</td>\n      <td>['Seweryn Goszczyński']</td>\n      <td>0.749</td>\n      <td>104300</td>\n      <td>0.2200</td>\n      <td>0</td>\n      <td>6L63VW0PibdM1HDSBoqnoM</td>\n      <td>0.000</td>\n      <td>5</td>\n      <td>0.1190</td>\n      <td>-19.924</td>\n      <td>0</td>\n      <td>Chapter 1.18 - Zamek kaniowski</td>\n      <td>0</td>\n      <td>1928</td>\n      <td>0.9290</td>\n      <td>107.177</td>\n      <td>0.8800</td>\n      <td>1928</td>\n    </tr>\n    <tr>\n      <th>3</th>\n      <td>0.995</td>\n      <td>['Francisco Canaro']</td>\n      <td>0.781</td>\n      <td>180760</td>\n      <td>0.1300</td>\n      <td>0</td>\n      <td>6M94FkXd15sOAOQYRnWPN8</td>\n      <td>0.887</td>\n      <td>1</td>\n      <td>0.1110</td>\n      <td>-14.734</td>\n      <td>0</td>\n      <td>Bebamos Juntos - Instrumental (Remasterizado)</td>\n      <td>0</td>\n      <td>1928-09-25</td>\n      <td>0.0926</td>\n      <td>108.003</td>\n      <td>0.7200</td>\n      <td>1928</td>\n    </tr>\n    <tr>\n      <th>4</th>\n      <td>0.990</td>\n      <td>['Frédéric Chopin', 'Vladimir Horowitz']</td>\n      <td>0.210</td>\n      <td>687733</td>\n      <td>0.2040</td>\n      <td>0</td>\n      <td>6N6tiFZ9vLTSOIxkj8qKrd</td>\n      <td>0.908</td>\n      <td>11</td>\n      <td>0.0980</td>\n      <td>-16.829</td>\n      <td>1</td>\n      <td>Polonaise-Fantaisie in A-Flat Major, Op. 61</td>\n      <td>1</td>\n      <td>1928</td>\n      <td>0.0424</td>\n      <td>62.149</td>\n      <td>0.0693</td>\n      <td>1928</td>\n    </tr>\n  </tbody>\n</table>\n</div>"
     },
     "metadata": {},
     "execution_count": 2
    }
   ],
   "source": [
    "#importing the kaggle data\n",
    "kaggle_spot_df = pd.read_csv(\"Resources/kaggle_spotify.csv\")\n",
    "\n",
    "kaggle_spot_df.head()"
   ]
  },
  {
   "cell_type": "code",
   "execution_count": 3,
   "metadata": {},
   "outputs": [
    {
     "output_type": "execute_result",
     "data": {
      "text/plain": [
       "      acousticness  danceability    energy  instrumentalness  liveness  \\\n",
       "year                                                                     \n",
       "1950      0.866723      0.491433  0.324979          0.262045  0.212791   \n",
       "1951      0.904933      0.459766  0.250260          0.306456  0.215993   \n",
       "1952      0.861886      0.462659  0.251581          0.277559  0.227615   \n",
       "1953      0.891139      0.436234  0.265310          0.290270  0.225679   \n",
       "1954      0.867919      0.466630  0.259361          0.278372  0.219946   \n",
       "...            ...           ...       ...               ...       ...   \n",
       "2016      0.280290      0.599976  0.592877          0.074646  0.180198   \n",
       "2017      0.289916      0.612286  0.586739          0.098209  0.194218   \n",
       "2018      0.271941      0.664930  0.590591          0.035948  0.171781   \n",
       "2019      0.289298      0.644215  0.578796          0.076518  0.167161   \n",
       "2020      0.247374      0.673077  0.611914          0.039052  0.177048   \n",
       "\n",
       "       loudness  popularity  speechiness       tempo   valence  \n",
       "year                                                            \n",
       "1950 -13.506982    2.703500     0.118183  111.768489  0.551834  \n",
       "1951 -15.948836    2.799000     0.107834  109.183712  0.431762  \n",
       "1952 -16.055367    2.986500     0.164197  107.591128  0.436885  \n",
       "1953 -15.551768    3.177436     0.096054  109.014178  0.423354  \n",
       "1954 -15.594470    7.083500     0.115995  108.532237  0.446452  \n",
       "...         ...         ...          ...         ...       ...  \n",
       "2016  -7.949913   61.371254     0.107298  119.070344  0.430769  \n",
       "2017  -8.422697   64.861500     0.111752  116.840278  0.414465  \n",
       "2018  -7.253666   67.276000     0.128140  122.004325  0.447141  \n",
       "2019  -8.041738   69.655500     0.124799  118.868163  0.465856  \n",
       "2020  -7.204024   63.111048     0.143505  121.228704  0.482755  \n",
       "\n",
       "[71 rows x 10 columns]"
      ],
      "text/html": "<div>\n<style scoped>\n    .dataframe tbody tr th:only-of-type {\n        vertical-align: middle;\n    }\n\n    .dataframe tbody tr th {\n        vertical-align: top;\n    }\n\n    .dataframe thead th {\n        text-align: right;\n    }\n</style>\n<table border=\"1\" class=\"dataframe\">\n  <thead>\n    <tr style=\"text-align: right;\">\n      <th></th>\n      <th>acousticness</th>\n      <th>danceability</th>\n      <th>energy</th>\n      <th>instrumentalness</th>\n      <th>liveness</th>\n      <th>loudness</th>\n      <th>popularity</th>\n      <th>speechiness</th>\n      <th>tempo</th>\n      <th>valence</th>\n    </tr>\n    <tr>\n      <th>year</th>\n      <th></th>\n      <th></th>\n      <th></th>\n      <th></th>\n      <th></th>\n      <th></th>\n      <th></th>\n      <th></th>\n      <th></th>\n      <th></th>\n    </tr>\n  </thead>\n  <tbody>\n    <tr>\n      <th>1950</th>\n      <td>0.866723</td>\n      <td>0.491433</td>\n      <td>0.324979</td>\n      <td>0.262045</td>\n      <td>0.212791</td>\n      <td>-13.506982</td>\n      <td>2.703500</td>\n      <td>0.118183</td>\n      <td>111.768489</td>\n      <td>0.551834</td>\n    </tr>\n    <tr>\n      <th>1951</th>\n      <td>0.904933</td>\n      <td>0.459766</td>\n      <td>0.250260</td>\n      <td>0.306456</td>\n      <td>0.215993</td>\n      <td>-15.948836</td>\n      <td>2.799000</td>\n      <td>0.107834</td>\n      <td>109.183712</td>\n      <td>0.431762</td>\n    </tr>\n    <tr>\n      <th>1952</th>\n      <td>0.861886</td>\n      <td>0.462659</td>\n      <td>0.251581</td>\n      <td>0.277559</td>\n      <td>0.227615</td>\n      <td>-16.055367</td>\n      <td>2.986500</td>\n      <td>0.164197</td>\n      <td>107.591128</td>\n      <td>0.436885</td>\n    </tr>\n    <tr>\n      <th>1953</th>\n      <td>0.891139</td>\n      <td>0.436234</td>\n      <td>0.265310</td>\n      <td>0.290270</td>\n      <td>0.225679</td>\n      <td>-15.551768</td>\n      <td>3.177436</td>\n      <td>0.096054</td>\n      <td>109.014178</td>\n      <td>0.423354</td>\n    </tr>\n    <tr>\n      <th>1954</th>\n      <td>0.867919</td>\n      <td>0.466630</td>\n      <td>0.259361</td>\n      <td>0.278372</td>\n      <td>0.219946</td>\n      <td>-15.594470</td>\n      <td>7.083500</td>\n      <td>0.115995</td>\n      <td>108.532237</td>\n      <td>0.446452</td>\n    </tr>\n    <tr>\n      <th>...</th>\n      <td>...</td>\n      <td>...</td>\n      <td>...</td>\n      <td>...</td>\n      <td>...</td>\n      <td>...</td>\n      <td>...</td>\n      <td>...</td>\n      <td>...</td>\n      <td>...</td>\n    </tr>\n    <tr>\n      <th>2016</th>\n      <td>0.280290</td>\n      <td>0.599976</td>\n      <td>0.592877</td>\n      <td>0.074646</td>\n      <td>0.180198</td>\n      <td>-7.949913</td>\n      <td>61.371254</td>\n      <td>0.107298</td>\n      <td>119.070344</td>\n      <td>0.430769</td>\n    </tr>\n    <tr>\n      <th>2017</th>\n      <td>0.289916</td>\n      <td>0.612286</td>\n      <td>0.586739</td>\n      <td>0.098209</td>\n      <td>0.194218</td>\n      <td>-8.422697</td>\n      <td>64.861500</td>\n      <td>0.111752</td>\n      <td>116.840278</td>\n      <td>0.414465</td>\n    </tr>\n    <tr>\n      <th>2018</th>\n      <td>0.271941</td>\n      <td>0.664930</td>\n      <td>0.590591</td>\n      <td>0.035948</td>\n      <td>0.171781</td>\n      <td>-7.253666</td>\n      <td>67.276000</td>\n      <td>0.128140</td>\n      <td>122.004325</td>\n      <td>0.447141</td>\n    </tr>\n    <tr>\n      <th>2019</th>\n      <td>0.289298</td>\n      <td>0.644215</td>\n      <td>0.578796</td>\n      <td>0.076518</td>\n      <td>0.167161</td>\n      <td>-8.041738</td>\n      <td>69.655500</td>\n      <td>0.124799</td>\n      <td>118.868163</td>\n      <td>0.465856</td>\n    </tr>\n    <tr>\n      <th>2020</th>\n      <td>0.247374</td>\n      <td>0.673077</td>\n      <td>0.611914</td>\n      <td>0.039052</td>\n      <td>0.177048</td>\n      <td>-7.204024</td>\n      <td>63.111048</td>\n      <td>0.143505</td>\n      <td>121.228704</td>\n      <td>0.482755</td>\n    </tr>\n  </tbody>\n</table>\n<p>71 rows × 10 columns</p>\n</div>"
     },
     "metadata": {},
     "execution_count": 3
    }
   ],
   "source": [
    "\n",
    "#organizes columns in dataframe and eliminates songs before 1950\n",
    "red_kaggle_spot_df=kaggle_spot_df[['id','name','artists','year','acousticness','danceability','energy','instrumentalness','liveness','loudness', 'popularity','speechiness','tempo','valence']].loc[kaggle_spot_df['year']>=1950,:].reset_index(drop=True)\n",
    "\n",
    "#agg mean of spotify metrics by year\n",
    "annual_mean_metrics_df=red_kaggle_spot_df[['year','acousticness','danceability','energy','instrumentalness','liveness','loudness', 'popularity','speechiness','tempo','valence']].groupby('year').mean()\n",
    "\n",
    "annual_mean_metrics_df\n",
    "\n",
    "\n",
    "\n"
   ]
  },
  {
   "cell_type": "code",
   "execution_count": null,
   "metadata": {},
   "outputs": [],
   "source": []
  }
 ]
}