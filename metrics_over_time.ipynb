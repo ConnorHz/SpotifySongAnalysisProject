{
 "metadata": {
  "language_info": {
   "codemirror_mode": {
    "name": "ipython",
    "version": 3
   },
   "file_extension": ".py",
   "mimetype": "text/x-python",
   "name": "python",
   "nbconvert_exporter": "python",
   "pygments_lexer": "ipython3",
   "version": "3.6.10-final"
  },
  "orig_nbformat": 2,
  "kernelspec": {
   "name": "Python 3.6.10 64-bit ('PythonData': conda)",
   "display_name": "Python 3.6.10 64-bit ('PythonData': conda)",
   "metadata": {
    "interpreter": {
     "hash": "7e7c916c673641125590bd307b68bb4342787996dc085909d7e5c72ee4d13010"
    }
   }
  }
 },
 "nbformat": 4,
 "nbformat_minor": 2,
 "cells": [
  {
   "cell_type": "code",
   "execution_count": null,
   "metadata": {},
   "outputs": [],
   "source": [
    "#dependencies\n",
    "import pandas as pd\n",
    "import matplotlib.pyplot as plt\n",
    "import numpy as np\n",
    "import random\n",
    "\n"
   ]
  },
  {
   "cell_type": "code",
   "execution_count": null,
   "metadata": {},
   "outputs": [],
   "source": [
    "#importing the kaggle data\n",
    "kaggle_spot_df = pd.read_csv(\"Resources/kaggle_spotify.csv\")\n",
    "\n",
    "kaggle_spot_df.head()"
   ]
  },
  {
   "cell_type": "code",
   "execution_count": null,
   "metadata": {},
   "outputs": [],
   "source": [
    "#review histograms of random year for 12 random spotify metrics. \n",
    "### I'm wondering if we could use scipy.stats.normaltest conditionally to select mean vs median when appropriate\n",
    "\n",
    "#creates a list of each year\n",
    "years_list=kaggle_spot_df['year'].unique().tolist()\n",
    "# print(type(years_list))\n",
    "years_list\n",
    "\n",
    "#list of each metric\n",
    "metric_list=['acousticness','danceability','energy','instrumentalness','liveness','loudness', 'popularity','speechiness','tempo','valence']\n",
    "\n",
    "##### creates 10 histograms for 1980's accousticness, itterate this so it chooses a few different years and different metrics\n",
    "fig_h=plt.figure(figsize=(18,15),facecolor='black')\n",
    "fig_h.suptitle('12 Histograms of random years and spotify metrics',color='#1DB954',fontsize=45)\n",
    "\n",
    "for t in range(1,13):\n",
    "\n",
    "    rando_year=random.choice(years_list)\n",
    "    rando_metric=random.choice(metric_list)\n",
    "\n",
    "    ax_h=fig_h.add_subplot(4,3,t)\n",
    "    ax_h.spines['bottom'].set_color('white')\n",
    "    ax_h.spines['top'].set_color('white')\n",
    "    ax_h.spines['right'].set_color('white')\n",
    "    ax_h.spines['left'].set_color('white')\n",
    "    ax_h.tick_params(axis='x', colors='white')\n",
    "    ax_h.tick_params(axis='y', colors='white')\n",
    "    ax_h.yaxis.label.set_color('white')\n",
    "    ax_h.xaxis.label.set_color('white')\n",
    "    ax_h.title.set_color('white')\n",
    "    ax_h.patch.set_alpha(0)\n",
    "    plt.title(str(rando_metric)+' '+str(rando_year))\n",
    "    histy=kaggle_spot_df.loc[kaggle_spot_df['year']==rando_year,:][rando_metric]\n",
    "    plt.hist(histy,color='#1DB954')\n",
    "plt.show()\n",
    " \n"
   ]
  },
  {
   "cell_type": "code",
   "execution_count": null,
   "metadata": {},
   "outputs": [],
   "source": [
    "### i'm thining I could create line graphs for mean and median and compare them\n",
    "# #agg mean of spotify metrics by year\n",
    "annual_metrics_df=kaggle_spot_df[['year','acousticness','danceability','energy','instrumentalness','liveness','loudness', 'popularity','speechiness','tempo','valence']].groupby('year').median()\n",
    "\n",
    "annual_metrics_df.head()\n",
    "\n"
   ]
  },
  {
   "cell_type": "code",
   "execution_count": null,
   "metadata": {},
   "outputs": [],
   "source": [
    "#turns the metric names into a list\n",
    "spot_metric_names=annual_metrics_df.columns.to_list()\n",
    "\n",
    "\n",
    "### plots graphs 4 by 3 with spotify colors\n",
    "fig = plt.figure(figsize=(18,15),facecolor='black')\n",
    "# fig.\n",
    "fig.suptitle('spotify metrics over time',fontsize=50,color='#1DB954')\n",
    "for i in range(1,11):\n",
    "    ax=fig.add_subplot(4,3,i)\n",
    "    ax.spines['bottom'].set_color('white')\n",
    "    ax.spines['top'].set_color('white')\n",
    "    ax.spines['right'].set_color('white')\n",
    "    ax.spines['left'].set_color('white')\n",
    "    ax.tick_params(axis='x', colors='white')\n",
    "    ax.tick_params(axis='y', colors='white')\n",
    "    ax.yaxis.label.set_color('white')\n",
    "    ax.xaxis.label.set_color('white')\n",
    "    ax.title.set_color('white')\n",
    "    ax.patch.set_alpha(0)\n",
    "    plt.plot(annual_metrics_df.index,annual_metrics_df.iloc[:,i-1],c='#1DB954')\n",
    "    plt.title(spot_metric_names[i-1])\n",
    "plt.show()\n",
    "\n",
    "\n"
   ]
  },
  {
   "cell_type": "code",
   "execution_count": null,
   "metadata": {},
   "outputs": [],
   "source": []
  }
 ]
}