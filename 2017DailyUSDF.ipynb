{
 "metadata": {
  "language_info": {
   "codemirror_mode": {
    "name": "ipython",
    "version": 3
   },
   "file_extension": ".py",
   "mimetype": "text/x-python",
   "name": "python",
   "nbconvert_exporter": "python",
   "pygments_lexer": "ipython3",
   "version": "3.8.3-final"
  },
  "orig_nbformat": 2,
  "kernelspec": {
   "name": "python3",
   "display_name": "Python 3"
  }
 },
 "nbformat": 4,
 "nbformat_minor": 2,
 "cells": [
  {
   "cell_type": "code",
   "execution_count": 1,
   "metadata": {},
   "outputs": [],
   "source": [
    "# Dependencies\n",
    "import pandas as pd"
   ]
  },
  {
   "cell_type": "code",
   "execution_count": 2,
   "metadata": {},
   "outputs": [],
   "source": [
    "# Not every CSV requires an encoding, but be aware this can come up\n",
    "US_Daily_2017_df = pd.read_csv(\"Resources/2017-daily-us-charts.csv\")"
   ]
  },
  {
   "cell_type": "code",
   "execution_count": 3,
   "metadata": {},
   "outputs": [
    {
     "output_type": "execute_result",
     "data": {
      "text/plain": [
       "         Date  Position                       Track Name       Artist  \\\n",
       "0  12/31/2017         1                         rockstar  Post Malone   \n",
       "1  12/31/2017         2                         No Limit       G-Eazy   \n",
       "2  12/31/2017         3  Bartier Cardi (feat. 21 Savage)      Cardi B   \n",
       "3  12/31/2017         4                     I Fall Apart  Post Malone   \n",
       "4  12/31/2017         5                       Gucci Gang     Lil Pump   \n",
       "\n",
       "   Streams                      ID  \n",
       "0  1530210  7wGoVu4Dady5GV0Sv4UIsx  \n",
       "1  1016584  2DQ1ITjI0YoLFzuADN1ZBW  \n",
       "2   950886  75FDPwaULRdYDn4StFN2rT  \n",
       "3   939975  75ZvA4QfFiZvzhj2xkaWAh  \n",
       "4   884672  43ZyHQITOjhciSUUNPVRHc  "
      ],
      "text/html": "<div>\n<style scoped>\n    .dataframe tbody tr th:only-of-type {\n        vertical-align: middle;\n    }\n\n    .dataframe tbody tr th {\n        vertical-align: top;\n    }\n\n    .dataframe thead th {\n        text-align: right;\n    }\n</style>\n<table border=\"1\" class=\"dataframe\">\n  <thead>\n    <tr style=\"text-align: right;\">\n      <th></th>\n      <th>Date</th>\n      <th>Position</th>\n      <th>Track Name</th>\n      <th>Artist</th>\n      <th>Streams</th>\n      <th>ID</th>\n    </tr>\n  </thead>\n  <tbody>\n    <tr>\n      <th>0</th>\n      <td>12/31/2017</td>\n      <td>1</td>\n      <td>rockstar</td>\n      <td>Post Malone</td>\n      <td>1530210</td>\n      <td>7wGoVu4Dady5GV0Sv4UIsx</td>\n    </tr>\n    <tr>\n      <th>1</th>\n      <td>12/31/2017</td>\n      <td>2</td>\n      <td>No Limit</td>\n      <td>G-Eazy</td>\n      <td>1016584</td>\n      <td>2DQ1ITjI0YoLFzuADN1ZBW</td>\n    </tr>\n    <tr>\n      <th>2</th>\n      <td>12/31/2017</td>\n      <td>3</td>\n      <td>Bartier Cardi (feat. 21 Savage)</td>\n      <td>Cardi B</td>\n      <td>950886</td>\n      <td>75FDPwaULRdYDn4StFN2rT</td>\n    </tr>\n    <tr>\n      <th>3</th>\n      <td>12/31/2017</td>\n      <td>4</td>\n      <td>I Fall Apart</td>\n      <td>Post Malone</td>\n      <td>939975</td>\n      <td>75ZvA4QfFiZvzhj2xkaWAh</td>\n    </tr>\n    <tr>\n      <th>4</th>\n      <td>12/31/2017</td>\n      <td>5</td>\n      <td>Gucci Gang</td>\n      <td>Lil Pump</td>\n      <td>884672</td>\n      <td>43ZyHQITOjhciSUUNPVRHc</td>\n    </tr>\n  </tbody>\n</table>\n</div>"
     },
     "metadata": {},
     "execution_count": 3
    }
   ],
   "source": [
    "# Show just the header\n",
    "US_Daily_2017_df.head()"
   ]
  },
  {
   "cell_type": "code",
   "execution_count": null,
   "metadata": {},
   "outputs": [],
   "source": []
  }
 ]
}