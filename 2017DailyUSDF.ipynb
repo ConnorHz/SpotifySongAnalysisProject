{
 "metadata": {
  "language_info": {
   "codemirror_mode": {
    "name": "ipython",
    "version": 3
   },
   "file_extension": ".py",
   "mimetype": "text/x-python",
   "name": "python",
   "nbconvert_exporter": "python",
   "pygments_lexer": "ipython3",
   "version": "3.6.10-final"
  },
  "orig_nbformat": 2,
  "kernelspec": {
   "name": "python3",
   "display_name": "Python 3"
  }
 },
 "nbformat": 4,
 "nbformat_minor": 2,
 "cells": [
  {
   "cell_type": "code",
   "execution_count": null,
   "metadata": {},
   "outputs": [],
   "source": [
    "# Dependencies\n",
    "import pandas as pd"
   ]
  },
  {
   "cell_type": "code",
   "execution_count": null,
   "metadata": {},
   "outputs": [],
   "source": [
    "# Not every CSV requires an encoding, but be aware this can come up\n",
    "US_Daily_2017_df = pd.read_csv(\"Resources/2017-daily-us-charts.csv\")"
   ]
  },
  {
   "cell_type": "code",
   "execution_count": null,
   "metadata": {},
   "outputs": [],
   "source": [
    "# Show just the header\n",
    "US_Daily_2017_df.head()"
   ]
  },
  {
   "cell_type": "code",
   "execution_count": null,
   "metadata": {},
   "outputs": [],
   "source": [
    "#importing kaggle spotify csv and converting it to a data frame\n",
    "kaggle_spot_df = pd.read_csv(\"Resources/kaggle_spotify.csv\")\n",
    "#renaming headers so it could be merged with Reginal_Weekly_2019\n",
    "kaggle_spot_df=kaggle_spot_df.rename(columns={'id':'ID','artists':'Kaggle Artists','name':'Kaggle Name','year':'release_year'})"
   ]
  },
  {
   "cell_type": "code",
   "execution_count": null,
   "metadata": {},
   "outputs": [],
   "source": [
    "#merging the daily_us_2017_df and the Kaggle data\n",
    "## prints out the lengths of the dataframes as we're making changes, just for review\n",
    "print('og value count of artist')\n",
    "print(US_Daily_2017_df['Artist'].value_counts())\n",
    "print('--------------')\n",
    "\n",
    "print('orinal length of kaggle')\n",
    "print(len(kaggle_spot_df))\n",
    "print('--------------')\n",
    "\n",
    "print('original us df weekly lengths')\n",
    "print(len(US_Daily_2017_df))\n",
    "print('--------------')\n",
    "\n",
    "US_Daily_2017_df=pd.merge(US_Daily_2017_df,kaggle_spot_df,on='ID',how='inner')\n",
    "print('post merge us df df  length')\n",
    "print(len(US_Daily_2017_df))\n",
    "print('--------------')\n",
    "\n",
    "US_Daily_2017_df=US_Daily_2017_df.dropna()\n",
    "print('post drop us df length')\n",
    "print(len(US_Daily_2017_df))\n",
    "print('--------------')\n",
    "\n",
    "print('value count of artist')\n",
    "print(US_Daily_2017_df['Artist'].value_counts())\n",
    "\n",
    "US_Daily_2017_df.tail(10)"
   ]
  },
  {
   "cell_type": "code",
   "execution_count": 6,
   "metadata": {},
   "outputs": [
    {
     "output_type": "execute_result",
     "data": {
      "text/plain": [
       "Index(['Date', 'Position', 'Track Name', 'Artist', 'Streams', 'ID',\n",
       "       'acousticness', 'Kaggle Artists', 'danceability', 'duration_ms',\n",
       "       'energy', 'explicit', 'instrumentalness', 'key', 'liveness', 'loudness',\n",
       "       'mode', 'Kaggle Name', 'popularity', 'release_date', 'speechiness',\n",
       "       'tempo', 'valence', 'release_year'],\n",
       "      dtype='object')"
      ]
     },
     "metadata": {},
     "execution_count": 6
    }
   ],
   "source": [
    "### deleting unncessary columns\n",
    "US_Daily_2017_df.columns"
   ]
  },
  {
   "cell_type": "code",
   "execution_count": null,
   "metadata": {},
   "outputs": [],
   "source": []
  }
 ]
}