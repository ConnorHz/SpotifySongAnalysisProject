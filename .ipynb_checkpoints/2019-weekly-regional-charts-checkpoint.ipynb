{
 "cells": [
  {
   "cell_type": "code",
   "execution_count": null,
   "metadata": {},
   "outputs": [],
   "source": [
    "#Import Dependencies\n",
    "import requests\n",
    "from bs4 import BeautifulSoup\n",
    "import csv"
   ]
  },
  {
   "cell_type": "code",
   "execution_count": null,
   "metadata": {},
   "outputs": [],
   "source": [
    "#The purpose of this code is to pull a list of possible dates and regions for weekly spotify charts us in 2019.\n",
    "region_codes=[]\n",
    "region_names=[]\n",
    "\n",
    "date_codes=[]\n",
    "date_names=[]\n",
    "\n",
    "Original_url=\"https://spotifycharts.com/regional/global/weekly/latest\"\n",
    "list_response=requests.get(Original_url)\n",
    "soup=BeautifulSoup(list_response.text, \"lxml\")\n",
    "#I can add to this later to change from daily or choose another date.\n",
    "dropdowns=soup.find_all('div', class_='responsive-select')\n",
    "\n",
    "regions=dropdowns[0].find_all('li')\n",
    "for region in regions:\n",
    "    region_codes.append(region['data-value'])\n",
    "    region_names.append(region.text)\n",
    "\n",
    "dates=dropdowns[2].find_all('li')\n",
    "for date in dates:\n",
    "    date_codes.append(date['data-value'])\n",
    "    date_names.append(date.text)"
   ]
  },
  {
   "cell_type": "code",
   "execution_count": null,
   "metadata": {},
   "outputs": [],
   "source": [
    "#This is to limit the list of dates to 2019\n",
    "for i in range(len(date_codes)-1,-1,-1):\n",
    "    if date_codes[i][:4]!=\"2019\":\n",
    "        date_codes.pop(i)\n",
    "        date_names.pop(i)"
   ]
  },
  {
   "cell_type": "code",
   "execution_count": null,
   "metadata": {},
   "outputs": [],
   "source": [
    "#Open CSV\n",
    "outPath=\"Resources/2019-weekly-regional-charts.csv\"\n",
    "with open(outPath, 'w', newline='') as csvfile:\n",
    "    # Initialize csv.writer\n",
    "    csvwriter = csv.writer(csvfile, delimiter=',')\n",
    "    #Creating a header for the data\n",
    "    csvwriter.writerow([\"Region\",\"Date\",\"Position\",\"Track Name\",\"Artist\",\"Streams\",\"ID\"])\n",
    "\n",
    "#Looping through the region codes and using them in the url to scrape the csv\n",
    "    for Num,Reg in enumerate(region_codes):\n",
    "        Current_Region=region_names[Num]\n",
    "        #Looping through Date codes\n",
    "        for Num2,date in enumerate(date_codes):\n",
    "            Current_Date=date_names[Num2]\n",
    "            url=f\"https://spotifycharts.com/regional/{Reg}/daily/{date}/download\"\n",
    "            CSVresponse=requests.get(url)\n",
    "            Cleaned_Response=str(CSVresponse.content).split(chr(92)+\"n\")\n",
    "            Cleaned_Response.pop(len(Cleaned_Response)-1)\n",
    "            Cleaned_Response.pop(1)       \n",
    "            Cleaned_Response.pop(0)\n",
    "            reader= csv.reader(Cleaned_Response,delimiter=\",\")\n",
    "            for row in reader:\n",
    "                if row[0]==\"    <head>\":\n",
    "                    break\n",
    "                CleanRow=[Current_Region, Current_Date] + row\n",
    "                CleanRow[6]=CleanRow[6][31:]\n",
    "                csvwriter.writerow(CleanRow)"
   ]
  },
  {
   "cell_type": "code",
   "execution_count": null,
   "metadata": {},
   "outputs": [],
   "source": []
  }
 ],
 "metadata": {
  "kernelspec": {
   "display_name": "Python (PythonData)",
   "language": "python",
   "name": "pythondata"
  },
  "language_info": {
   "codemirror_mode": {
    "name": "ipython",
    "version": 3
   },
   "file_extension": ".py",
   "mimetype": "text/x-python",
   "name": "python",
   "nbconvert_exporter": "python",
   "pygments_lexer": "ipython3",
   "version": "3.8.3"
  }
 },
 "nbformat": 4,
 "nbformat_minor": 2
}
