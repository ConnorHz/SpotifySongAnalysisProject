{
 "metadata": {
  "language_info": {
   "codemirror_mode": {
    "name": "ipython",
    "version": 3
   },
   "file_extension": ".py",
   "mimetype": "text/x-python",
   "name": "python",
   "nbconvert_exporter": "python",
   "pygments_lexer": "ipython3",
   "version": "3.6.10-final"
  },
  "orig_nbformat": 2,
  "kernelspec": {
   "name": "python3",
   "display_name": "Python 3"
  }
 },
 "nbformat": 4,
 "nbformat_minor": 2,
 "cells": [
  {
   "cell_type": "code",
   "execution_count": null,
   "metadata": {},
   "outputs": [],
   "source": [
    "# Dependencies\n",
    "import pandas as pd"
   ]
  },
  {
   "cell_type": "code",
   "execution_count": null,
   "metadata": {},
   "outputs": [],
   "source": [
    "# Not every CSV requires an encoding, but be aware this can come up\n",
    "Regional_Weekly_2019_df = pd.read_csv(\"Resources/2019-weekly-regional-charts.csv\")"
   ]
  },
  {
   "cell_type": "code",
   "execution_count": null,
   "metadata": {},
   "outputs": [],
   "source": [
    "# Show just the header\n",
    "Regional_Weekly_2019_df.head()"
   ]
  },
  {
   "cell_type": "code",
   "execution_count": null,
   "metadata": {},
   "outputs": [],
   "source": [
    "#importing kaggle spotify csv and converting it to a data frame\n",
    "kaggle_spot_df = pd.read_csv(\"Resources/kaggle_spotify.csv\")\n",
    "#renaming headers so it could be merged with Reginal_Weekly_2019\n",
    "kaggle_spot_df=kaggle_spot_df.rename(columns={'id':'ID','artists':'Kaggle Artists','name':'Kaggle Name','year':'release_year'})\n"
   ]
  },
  {
   "cell_type": "code",
   "execution_count": null,
   "metadata": {},
   "outputs": [],
   "source": [
    "#merging the Regional_Weekly_2019_df and the Kaggle data\n",
    "## prints out the lengths of the dataframes as we're making changes, just for review\n",
    "print('og value count of region')\n",
    "print(Regional_Weekly_2019_df['Region'].value_counts())\n",
    "print('--------------')\n",
    "\n",
    "print('orinal length of kaggle')\n",
    "print(len(kaggle_spot_df))\n",
    "print('--------------')\n",
    "\n",
    "print('original regional weekly lengths')\n",
    "print(len(Regional_Weekly_2019_df))\n",
    "print('--------------')\n",
    "\n",
    "Regional_Weekly_2019_df=pd.merge(Regional_Weekly_2019_df,kaggle_spot_df,on='ID',how='inner')\n",
    "print('post merge reginal df  length')\n",
    "print(len(Regional_Weekly_2019_df))\n",
    "print('--------------')\n",
    "\n",
    "Regional_Weekly_2019_df=Regional_Weekly_2019_df.dropna()\n",
    "print('post drop regional df length')\n",
    "print(len(Regional_Weekly_2019_df))\n",
    "print('--------------')\n",
    "\n",
    "print('value count of region')\n",
    "print(Regional_Weekly_2019_df['Region'].value_counts())\n",
    "\n",
    "# Regional_Weekly_2019_df.tail(20)"
   ]
  },
  {
   "cell_type": "code",
   "execution_count": null,
   "metadata": {},
   "outputs": [],
   "source": [
    "#deleting unnecessary columns \n",
    "Regional_Weekly_2019_df.tail(5)\n",
    "\n",
    "#eliminates unneeded columns \n",
    "Reduced_Regional_Weekly_2019_df=Regional_Weekly_2019_df[['Region','ID','duration_ms','popularity','acousticness','danceability','energy', 'instrumentalness','liveness','loudness','speechiness','tempo','valence']].loc[Regional_Weekly_2019_df[\"Region\"]!='Global',:].reset_index(drop=True)\n",
    "#renames region and id for consistent case\n",
    "Reduced_Regional_Weekly_2019_df.rename(columns={'Region':'region','ID':'id'},inplace=True)\n",
    "Reduced_Regional_Weekly_2019_df.head(10)\n",
    "\n"
   ]
  },
  {
   "cell_type": "code",
   "execution_count": null,
   "metadata": {},
   "outputs": [],
   "source": []
  }
 ]
}